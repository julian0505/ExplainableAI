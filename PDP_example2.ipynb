{
 "cells": [
  {
   "cell_type": "code",
   "execution_count": null,
   "id": "a51b02e2-5b8e-4888-ae52-9c9f2d0428b3",
   "metadata": {},
   "outputs": [],
   "source": [
    "#\n",
    "#Example with Cancer data\n",
    "#Source: https://www.kaggle.com/datasets/nancyalaswad90/cancer-statistics-in-us-states?resource=download\n",
    "#"
   ]
  },
  {
   "cell_type": "code",
   "execution_count": 4,
   "id": "1ccc3a2b-dcc6-4707-a30f-594779e7309f",
   "metadata": {},
   "outputs": [
    {
     "data": {
      "text/plain": [
       "{'data': array([[14.817248, 14.817248,  0.      ,  0.      ,  1.      ],\n",
       "        [14.261465, 14.261465,  0.      ,  0.      ,  0.      ],\n",
       "        [ 6.644764,  6.644764,  0.      ,  0.      ,  0.      ],\n",
       "        ...,\n",
       "        [ 2.6192  ,  2.149213,  0.      ,  0.      ,  1.      ],\n",
       "        [ 2.2905  ,  2.209446,  0.      ,  1.      ,  1.      ],\n",
       "        [ 3.737   ,  2.12731 ,  0.      ,  0.      ,  1.      ]]),\n",
       " 'target': array([0, 0, 0, 0, 0, 0, 0, 0, 0, 1, 0, 0, 1, 0, 1, 0, 1, 0, 0, 1, 0, 0,\n",
       "        0, 1, 1, 0, 0, 1, 0, 1, 0, 1, 0, 0, 1, 1, 0, 1, 0, 0, 0, 1, 1, 0,\n",
       "        0, 0, 1, 0, 1, 1, 0, 0, 1, 0, 0, 0, 1, 1, 1, 0, 0, 0, 0, 0, 1, 0,\n",
       "        0, 0, 0, 0, 0, 0, 0, 0, 1, 0, 0, 0, 0, 0, 0, 1, 1, 0, 0, 1, 1, 0,\n",
       "        0, 0, 1, 0, 1, 1, 1, 0, 0, 0, 1, 1, 0, 0, 1, 0, 0, 0, 0, 0, 0, 0,\n",
       "        0, 1, 0, 1, 1, 0, 0, 0, 1, 0, 0, 0, 0, 0, 1, 1, 0, 0, 0, 0, 1, 0,\n",
       "        0, 0, 0, 0, 0, 1, 0, 0, 1, 0, 0, 0, 0, 0, 0, 0, 0, 1, 0, 0, 0, 0,\n",
       "        1, 0, 0, 0, 1, 0, 0, 1, 0, 1, 1, 0, 0, 0, 0, 0, 0, 0, 0, 0, 0, 1,\n",
       "        0, 0, 0, 0, 0, 0, 0, 0, 1, 1, 0, 0, 0, 0, 0, 0, 0, 0, 0, 0, 0, 0,\n",
       "        0, 0, 0, 0, 0, 0, 0, 0, 0, 0, 0, 1, 0, 1, 1, 1, 0, 1, 0, 1, 0, 0,\n",
       "        0, 0, 0, 1, 0, 0, 1, 0, 0, 0, 0, 0, 0, 0, 1, 0, 0, 0, 0, 0, 1, 1,\n",
       "        1, 1, 0, 0, 0, 0, 0, 0, 0, 0, 0, 0, 0, 0, 0, 0, 0, 0, 0, 1, 1, 1,\n",
       "        1, 1, 1, 1, 1, 1, 1, 1], dtype=int64),\n",
       " 'feature_names': Index(['survival', 'timerecurrence', 'chemo', 'hormonal', 'amputation'], dtype='object')}"
      ]
     },
     "execution_count": 4,
     "metadata": {},
     "output_type": "execute_result"
    }
   ],
   "source": [
    "from load_cancer_data import load_data\n",
    "import sklearn\n",
    "\n",
    "cancer_inshape = load_data()\n",
    "train_X, val_X, train_y, val_y = sklearn.model_selection.train_test_split(\n",
    "        cancer_inshape[\"data\"], \n",
    "        cancer_inshape[\"target\"], \n",
    "        train_size=0.80)\n",
    "cancer_inshape"
   ]
  },
  {
   "cell_type": "code",
   "execution_count": 7,
   "id": "ee8c78b9-fa22-4e43-8a49-cdaf5d0dc549",
   "metadata": {},
   "outputs": [
    {
     "name": "stderr",
     "output_type": "stream",
     "text": [
      "C:\\envs\\ml_haspa\\lib\\site-packages\\sklearn\\utils\\deprecation.py:87: FutureWarning: Function plot_partial_dependence is deprecated; Function `plot_partial_dependence` is deprecated in 1.0 and will be removed in 1.2. Use PartialDependenceDisplay.from_estimator instead\n",
      "  warnings.warn(msg, category=FutureWarning)\n"
     ]
    },
    {
     "data": {
      "image/png": "[encoded data removed]",
      "text/plain": [
       "<Figure size 432x288 with 3 Axes>"
      ]
     },
     "metadata": {
      "needs_background": "light"
     },
     "output_type": "display_data"
    }
   ],
   "source": [
    "#Cancer data\n",
    "\n",
    "import pandas as pd\n",
    "from sklearn.ensemble import GradientBoostingRegressor, GradientBoostingClassifier\n",
    "from sklearn.inspection._partial_dependence import partial_dependence\n",
    "from sklearn.inspection._plot.partial_dependence import plot_partial_dependence\n",
    "from sklearn.impute._base import SimpleImputer\n",
    "\n",
    "clf = GradientBoostingClassifier()\n",
    "clf.fit(train_X, train_y)\n",
    "#which features to inspect\n",
    "titanic_X_colns = cancer_inshape[\"feature_names\"]\n",
    "\n",
    "my_imputer = SimpleImputer()\n",
    "imputed_titanic_X = my_imputer.fit_transform(train_X)\n",
    "\n",
    "\n",
    "titanic_plots = plot_partial_dependence(clf, features=[2,4], X=imputed_titanic_X, \n",
    "                                        feature_names=titanic_X_colns, grid_resolution=8)"
   ]
  },
  {
   "cell_type": "code",
   "execution_count": null,
   "id": "c5f548f2-89d3-4522-9c1f-7f5e1cf89634",
   "metadata": {},
   "outputs": [],
   "source": []
  }
 ],
 "metadata": {
  "kernelspec": {
   "display_name": "ml_haspa",
   "language": "python",
   "name": "ml_haspa"
  },
  "language_info": {
   "codemirror_mode": {
    "name": "ipython",
    "version": 3
   },
   "file_extension": ".py",
   "mimetype": "text/x-python",
   "name": "python",
   "nbconvert_exporter": "python",
   "pygments_lexer": "ipython3",
   "version": "3.9.10"
  }
 },
 "nbformat": 4,
 "nbformat_minor": 5
}
