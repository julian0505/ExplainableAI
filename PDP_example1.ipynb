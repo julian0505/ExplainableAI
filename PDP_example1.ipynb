{
 "cells": [
  {
   "cell_type": "code",
   "execution_count": 39,
   "id": "a51b02e2-5b8e-4888-ae52-9c9f2d0428b3",
   "metadata": {},
   "outputs": [],
   "source": [
    "#\n",
    "#Partial Dependence Plot example\n",
    "#titanic data\n",
    "#https://www.kaggle.com/code/dansbecker/partial-dependence-plots/data\n",
    "#"
   ]
  },
  {
   "cell_type": "code",
   "execution_count": 1,
   "id": "7bdd3826-9b69-4ad0-a565-fac7109b5cee",
   "metadata": {},
   "outputs": [
    {
     "ename": "NameError",
     "evalue": "name 'get_some_data' is not defined",
     "output_type": "error",
     "traceback": [
      "\u001b[1;31m---------------------------------------------------------------------------\u001b[0m",
      "\u001b[1;31mNameError\u001b[0m                                 Traceback (most recent call last)",
      "Input \u001b[1;32mIn [1]\u001b[0m, in \u001b[0;36m<module>\u001b[1;34m\u001b[0m\n\u001b[0;32m      7\u001b[0m \u001b[38;5;28;01mfrom\u001b[39;00m \u001b[38;5;21;01msklearn\u001b[39;00m\u001b[38;5;21;01m.\u001b[39;00m\u001b[38;5;21;01mimpute\u001b[39;00m\u001b[38;5;21;01m.\u001b[39;00m\u001b[38;5;21;01m_base\u001b[39;00m \u001b[38;5;28;01mimport\u001b[39;00m SimpleImputer\n\u001b[0;32m      9\u001b[0m cols_to_use \u001b[38;5;241m=\u001b[39m [\u001b[38;5;124m'\u001b[39m\u001b[38;5;124mDistance\u001b[39m\u001b[38;5;124m'\u001b[39m, \u001b[38;5;124m'\u001b[39m\u001b[38;5;124mLandsize\u001b[39m\u001b[38;5;124m'\u001b[39m, \u001b[38;5;124m'\u001b[39m\u001b[38;5;124mBuildingArea\u001b[39m\u001b[38;5;124m'\u001b[39m]\n\u001b[1;32m---> 11\u001b[0m X, y \u001b[38;5;241m=\u001b[39m \u001b[43mget_some_data\u001b[49m()\n\u001b[0;32m     12\u001b[0m my_model \u001b[38;5;241m=\u001b[39m GradientBoostingRegressor()\n\u001b[0;32m     13\u001b[0m my_model\u001b[38;5;241m.\u001b[39mfit(train_X, train_y)\n",
      "\u001b[1;31mNameError\u001b[0m: name 'get_some_data' is not defined"
     ]
    }
   ],
   "source": [
    "#Melburne House Data\n",
    "\n",
    "import pandas as pd\n",
    "from sklearn.ensemble import GradientBoostingRegressor, GradientBoostingClassifier\n",
    "from sklearn.inspection._partial_dependence import partial_dependence\n",
    "from sklearn.inspection._plot.partial_dependence import plot_partial_dependence\n",
    "from sklearn.impute._base import SimpleImputer\n",
    "\n",
    "cols_to_use = ['Distance', 'Landsize', 'BuildingArea']\n",
    "\n",
    "X, y = get_some_data()\n",
    "my_model = GradientBoostingRegressor()\n",
    "my_model.fit(train_X, train_y)\n",
    "my_plots = plot_partial_dependence(my_model, \n",
    "                                   features=[0,2], \n",
    "                                   X=train_X, \n",
    "                                   feature_names=cols_to_use, \n",
    "                                   grid_resolution=10)\n"
   ]
  },
  {
   "cell_type": "code",
   "execution_count": null,
   "id": "2c08717b-150f-40a6-8deb-21f82fb0c12d",
   "metadata": {},
   "outputs": [],
   "source": [
    "import numpy as np\n",
    "import pandas as pd\n",
    "import pandas_profiling\n",
    "\n",
    "\n",
    "profile = X.profile_report(title=\"<give any name you want>\")\n",
    "profile.to_file(output_file=\"<givefilename>.html\")"
   ]
  },
  {
   "cell_type": "code",
   "execution_count": 3,
   "id": "ee8c78b9-fa22-4e43-8a49-cdaf5d0dc549",
   "metadata": {},
   "outputs": [
    {
     "name": "stderr",
     "output_type": "stream",
     "text": [
      "C:\\envs\\ml_haspa\\lib\\site-packages\\sklearn\\utils\\deprecation.py:87: FutureWarning: Function plot_partial_dependence is deprecated; Function `plot_partial_dependence` is deprecated in 1.0 and will be removed in 1.2. Use PartialDependenceDisplay.from_estimator instead\n",
      "  warnings.warn(msg, category=FutureWarning)\n"
     ]
    },
    {
     "data": {
      "image/png": "[encoded data removed]",
      "text/plain": [
       "<Figure size 432x288 with 3 Axes>"
      ]
     },
     "metadata": {
      "needs_background": "light"
     },
     "output_type": "display_data"
    }
   ],
   "source": [
    "#Titanic Data\n",
    "\n",
    "import pandas as pd\n",
    "from sklearn.ensemble import GradientBoostingRegressor, GradientBoostingClassifier\n",
    "from sklearn.inspection._partial_dependence import partial_dependence\n",
    "from sklearn.inspection._plot.partial_dependence import plot_partial_dependence\n",
    "from sklearn.impute._base import SimpleImputer\n",
    "\n",
    "titanic_data = pd.read_csv('data_wiki/titanic/train.csv')\n",
    "titanic_y = titanic_data.Survived\n",
    "clf = GradientBoostingClassifier()\n",
    "titanic_X_colns = ['PassengerId','Age', 'Fare',]\n",
    "titanic_X = titanic_data[titanic_X_colns]\n",
    "my_imputer = SimpleImputer()\n",
    "imputed_titanic_X = my_imputer.fit_transform(titanic_X)\n",
    "\n",
    "clf.fit(imputed_titanic_X, titanic_y)\n",
    "titanic_plots = plot_partial_dependence(clf, features=[1,2], X=imputed_titanic_X, \n",
    "                                        feature_names=titanic_X_colns, grid_resolution=8)"
   ]
  },
  {
   "cell_type": "code",
   "execution_count": null,
   "id": "6a4aa7ad-435e-468c-98be-18a9fd17ce73",
   "metadata": {},
   "outputs": [],
   "source": []
  }
 ],
 "metadata": {
  "kernelspec": {
   "display_name": "ml_haspa",
   "language": "python",
   "name": "ml_haspa"
  },
  "language_info": {
   "codemirror_mode": {
    "name": "ipython",
    "version": 3
   },
   "file_extension": ".py",
   "mimetype": "text/x-python",
   "name": "python",
   "nbconvert_exporter": "python",
   "pygments_lexer": "ipython3",
   "version": "3.9.10"
  }
 },
 "nbformat": 4,
 "nbformat_minor": 5
}
